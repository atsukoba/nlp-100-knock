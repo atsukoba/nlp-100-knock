{
 "cells": [
  {
   "cell_type": "markdown",
   "metadata": {},
   "source": [
    "# 言語処理100本ノック \n",
    "# 第2章: UNIXコマンドの基礎\n",
    "\n",
    "---\n",
    "\n",
    "2018/09/01 Atsuya Kobayashi\n",
    "\n",
    "---\n",
    "\n",
    "[hightemp.txt](http://www.cl.ecei.tohoku.ac.jp/nlp100/data/hightemp.txt)は，日本の最高気温の記録を「都道府県」「地点」「℃」「日」のタブ区切り形式で格納したファイルである．以下の処理を行うプログラムを作成し，hightemp.txtを入力ファイルとして実行せよ．さらに，同様の処理をUNIXコマンドでも実行し，プログラムの実行結果を確認せよ．"
   ]
  },
  {
   "cell_type": "code",
   "execution_count": 61,
   "metadata": {},
   "outputs": [
    {
     "name": "stdout",
     "output_type": "stream",
     "text": [
      "/Users/atsuya/Documents/nlp-100knock\n"
     ]
    },
    {
     "name": "stderr",
     "output_type": "stream",
     "text": [
      "--2018-09-01 01:43:06--  http://www.cl.ecei.tohoku.ac.jp/nlp100/data/hightemp.txt\n",
      "www.cl.ecei.tohoku.ac.jp (www.cl.ecei.tohoku.ac.jp) をDNSに問いあわせています... 130.34.192.83\n",
      "www.cl.ecei.tohoku.ac.jp (www.cl.ecei.tohoku.ac.jp)|130.34.192.83|:80 に接続しています... 接続しました。\n",
      "HTTP による接続要求を送信しました、応答を待っています... 200 OK\n",
      "長さ: 813 [text/plain]\n",
      "`hightemp.txt' に保存中\n",
      "\n",
      "     0K                                                       100% 45.6M=0s\n",
      "\n",
      "2018-09-01 01:43:06 (45.6 MB/s) - `hightemp.txt' へ保存完了 [813/813]\n",
      "\n"
     ]
    }
   ],
   "source": [
    "%%bash\n",
    "pwd;rm hightemp*; wget http://www.cl.ecei.tohoku.ac.jp/nlp100/data/hightemp.txt"
   ]
  },
  {
   "cell_type": "code",
   "execution_count": 62,
   "metadata": {},
   "outputs": [
    {
     "name": "stdout",
     "output_type": "stream",
     "text": [
      "高知県\t江川崎\t41\t2013-08-12\n",
      "埼玉県\t熊谷\t40.9\t2007-08-16\n",
      "岐阜県\t多治見\t40.9\t2007-08-16\n",
      "山形県\t山形\t40.8\t1933-07-25\n",
      "山梨県\t甲府\t40.7\t2013-08-10\n",
      "和歌山県\tかつらぎ\t40.6\t1994-08-08\n",
      "静岡県\t天竜\t40.6\t1994-08-04\n",
      "山梨県\t勝沼\t40.5\t2013-08-10\n",
      "埼玉県\t越谷\t40.4\t2007-08-16\n",
      "群馬県\t館林\t40.3\t2007-08-16\n",
      "群馬県\t上里見\t40.3\t1998-07-04\n",
      "愛知県\t愛西\t40.3\t1994-08-05\n",
      "千葉県\t牛久\t40.2\t2004-07-20\n",
      "静岡県\t佐久間\t40.2\t2001-07-24\n",
      "愛媛県\t宇和島\t40.2\t1927-07-22\n",
      "山形県\t酒田\t40.1\t1978-08-03\n",
      "岐阜県\t美濃\t40\t2007-08-16\n",
      "群馬県\t前橋\t40\t2001-07-24\n",
      "千葉県\t茂原\t39.9\t2013-08-11\n",
      "埼玉県\t鳩山\t39.9\t1997-07-05\n",
      "大阪府\t豊中\t39.9\t1994-08-08\n",
      "山梨県\t大月\t39.9\t1990-07-19\n",
      "山形県\t鶴岡\t39.9\t1978-08-03\n",
      "愛知県\t名古屋\t39.9\t1942-08-02\n"
     ]
    }
   ],
   "source": [
    "%%bash\n",
    "cat hightemp.txt"
   ]
  },
  {
   "cell_type": "markdown",
   "metadata": {},
   "source": [
    "---\n",
    "\n",
    "### 10. 行数のカウント\n",
    "行数をカウントせよ．確認にはwcコマンドを用いよ．"
   ]
  },
  {
   "cell_type": "code",
   "execution_count": 63,
   "metadata": {},
   "outputs": [
    {
     "data": {
      "text/plain": [
       "24"
      ]
     },
     "execution_count": 63,
     "metadata": {},
     "output_type": "execute_result"
    }
   ],
   "source": [
    "f = open(\"hightemp.txt\")\n",
    "l = f.readlines()\n",
    "f.close()\n",
    "len(l)"
   ]
  },
  {
   "cell_type": "code",
   "execution_count": 64,
   "metadata": {},
   "outputs": [
    {
     "name": "stdout",
     "output_type": "stream",
     "text": [
      "      24      98     813 hightemp.txt\n"
     ]
    }
   ],
   "source": [
    "%%bash\n",
    "wc hightemp.txt"
   ]
  },
  {
   "cell_type": "markdown",
   "metadata": {},
   "source": [
    "---\n",
    "\n",
    "### 11. タブをスペースに置換\n",
    "\n",
    "タブ1文字につきスペース1文字に置換せよ．確認にはsedコマンド，trコマンド，もしくはexpandコマンドを用いよ．\n",
    "\n"
   ]
  },
  {
   "cell_type": "code",
   "execution_count": 74,
   "metadata": {},
   "outputs": [
    {
     "name": "stdout",
     "output_type": "stream",
     "text": [
      "高知県 江川崎 41 2013-08-12\n",
      "埼玉県 熊谷 40.9 2007-08-16\n",
      "岐阜県 多治見 40.9 2007-08-16\n",
      "山形県 山形 40.8 1933-07-25\n",
      "山梨県 甲府 40.7 2013-08-10\n",
      "和歌山県 かつらぎ 40.6 1994-08-08\n",
      "静岡県 天竜 40.6 1994-08-04\n",
      "山梨県 勝沼 40.5 2013-08-10\n",
      "埼玉県 越谷 40.4 2007-08-16\n",
      "群馬県 館林 40.3 2007-08-16\n",
      "群馬県 上里見 40.3 1998-07-04\n",
      "愛知県 愛西 40.3 1994-08-05\n",
      "千葉県 牛久 40.2 2004-07-20\n",
      "静岡県 佐久間 40.2 2001-07-24\n",
      "愛媛県 宇和島 40.2 1927-07-22\n",
      "山形県 酒田 40.1 1978-08-03\n",
      "岐阜県 美濃 40 2007-08-16\n",
      "群馬県 前橋 40 2001-07-24\n",
      "千葉県 茂原 39.9 2013-08-11\n",
      "埼玉県 鳩山 39.9 1997-07-05\n",
      "大阪府 豊中 39.9 1994-08-08\n",
      "山梨県 大月 39.9 1990-07-19\n",
      "山形県 鶴岡 39.9 1978-08-03\n",
      "愛知県 名古屋 39.9 1942-08-02\n",
      "\n"
     ]
    }
   ],
   "source": [
    "with open(\"hightemp.txt\") as f:\n",
    "    S = f.read()\n",
    "with open(\"hightemp.txt\", mode=\"w\") as f:\n",
    "    f.write(S.replace(\"\\t\", \" \"))\n",
    "\n",
    "print(S.replace(\"\\t\", \" \"))"
   ]
  },
  {
   "cell_type": "code",
   "execution_count": 76,
   "metadata": {},
   "outputs": [
    {
     "name": "stdout",
     "output_type": "stream",
     "text": [
      "高知県 江川崎 41 2013-08-12\n",
      "埼玉県 熊谷 40.9 2007-08-16\n",
      "岐阜県 多治見 40.9 2007-08-16\n",
      "山形県 山形 40.8 1933-07-25\n",
      "山梨県 甲府 40.7 2013-08-10\n",
      "和歌山県 かつらぎ 40.6 1994-08-08\n",
      "静岡県 天竜 40.6 1994-08-04\n",
      "山梨県 勝沼 40.5 2013-08-10\n",
      "埼玉県 越谷 40.4 2007-08-16\n",
      "群馬県 館林 40.3 2007-08-16\n",
      "群馬県 上里見 40.3 1998-07-04\n",
      "愛知県 愛西 40.3 1994-08-05\n",
      "千葉県 牛久 40.2 2004-07-20\n",
      "静岡県 佐久間 40.2 2001-07-24\n",
      "愛媛県 宇和島 40.2 1927-07-22\n",
      "山形県 酒田 40.1 1978-08-03\n",
      "岐阜県 美濃 40 2007-08-16\n",
      "群馬県 前橋 40 2001-07-24\n",
      "千葉県 茂原 39.9 2013-08-11\n",
      "埼玉県 鳩山 39.9 1997-07-05\n",
      "大阪府 豊中 39.9 1994-08-08\n",
      "山梨県 大月 39.9 1990-07-19\n",
      "山形県 鶴岡 39.9 1978-08-03\n",
      "愛知県 名古屋 39.9 1942-08-02\n"
     ]
    }
   ],
   "source": [
    "%%bash\n",
    "sed \"s/$(printf \"\\t\")/ /g\" hightemp.txt\n",
    "\n",
    "# macOSでは\\tがタブとして認識されないのでprintfを用いる"
   ]
  },
  {
   "cell_type": "markdown",
   "metadata": {},
   "source": [
    "---\n",
    "\n",
    "### 12. 1列目をcol1.txtに，2列目をcol2.txtに保存\n",
    "\n",
    "各行の1列目だけを抜き出したものをcol1.txtに，2列目だけを抜き出したものをcol2.txtとしてファイルに保存せよ．確認にはcutコマンドを用いよ．\n"
   ]
  },
  {
   "cell_type": "code",
   "execution_count": 94,
   "metadata": {},
   "outputs": [
    {
     "name": "stdout",
     "output_type": "stream",
     "text": [
      "0    高知県\n",
      "1    埼玉県\n",
      "2    岐阜県\n",
      "3    山形県\n",
      "4    山梨県\n",
      "Name: 0, dtype: object\n",
      "0    江川崎\n",
      "1     熊谷\n",
      "2    多治見\n",
      "3     山形\n",
      "4     甲府\n",
      "Name: 1, dtype: object\n"
     ]
    }
   ],
   "source": [
    "import pandas as pd\n",
    "\n",
    "line = []\n",
    "with open(\"hightemp.txt\") as f:\n",
    "    for l in f.readlines():\n",
    "        line.append(l.rstrip().split(\" \"))\n",
    "\n",
    "data_1 = pd.DataFrame(line)[0]\n",
    "print(str(data_1.head(5)))\n",
    "\n",
    "data_2 = pd.DataFrame(line)[1]\n",
    "print(str(data_2.head(5)))"
   ]
  },
  {
   "cell_type": "code",
   "execution_count": 96,
   "metadata": {},
   "outputs": [
    {
     "name": "stdout",
     "output_type": "stream",
     "text": [
      "高知県\n",
      "埼玉県\n",
      "岐阜県\n",
      "山形県\n",
      "山梨県\n",
      "和歌山県\n",
      "静岡県\n",
      "山梨県\n",
      "埼玉県\n",
      "群馬県\n"
     ]
    }
   ],
   "source": [
    "%%bash\n",
    "cut -f 1 -d \" \" hightemp.txt > col1.txt\n",
    "head col1.txt"
   ]
  },
  {
   "cell_type": "code",
   "execution_count": 97,
   "metadata": {},
   "outputs": [
    {
     "name": "stdout",
     "output_type": "stream",
     "text": [
      "江川崎\n",
      "熊谷\n",
      "多治見\n",
      "山形\n",
      "甲府\n",
      "かつらぎ\n",
      "天竜\n",
      "勝沼\n",
      "越谷\n",
      "館林\n"
     ]
    }
   ],
   "source": [
    "%%bash\n",
    "cut -f 2 -d \" \" hightemp.txt > col2.txt\n",
    "head col2.txt"
   ]
  },
  {
   "cell_type": "markdown",
   "metadata": {},
   "source": [
    "### 13. col1.txtとcol2.txtをマージ\n",
    "\n",
    "12で作ったcol1.txtとcol2.txtを結合し，元のファイルの1列目と2列目をタブ区切りで並べたテキストファイルを作成せよ．確認にはpasteコマンドを用いよ．\n"
   ]
  },
  {
   "cell_type": "code",
   "execution_count": 104,
   "metadata": {},
   "outputs": [
    {
     "data": {
      "text/html": [
       "<div>\n",
       "<style scoped>\n",
       "    .dataframe tbody tr th:only-of-type {\n",
       "        vertical-align: middle;\n",
       "    }\n",
       "\n",
       "    .dataframe tbody tr th {\n",
       "        vertical-align: top;\n",
       "    }\n",
       "\n",
       "    .dataframe thead th {\n",
       "        text-align: right;\n",
       "    }\n",
       "</style>\n",
       "<table border=\"1\" class=\"dataframe\">\n",
       "  <thead>\n",
       "    <tr style=\"text-align: right;\">\n",
       "      <th></th>\n",
       "      <th>0</th>\n",
       "      <th>1</th>\n",
       "    </tr>\n",
       "  </thead>\n",
       "  <tbody>\n",
       "    <tr>\n",
       "      <th>0</th>\n",
       "      <td>高知県</td>\n",
       "      <td>江川崎</td>\n",
       "    </tr>\n",
       "    <tr>\n",
       "      <th>1</th>\n",
       "      <td>埼玉県</td>\n",
       "      <td>熊谷</td>\n",
       "    </tr>\n",
       "    <tr>\n",
       "      <th>2</th>\n",
       "      <td>岐阜県</td>\n",
       "      <td>多治見</td>\n",
       "    </tr>\n",
       "    <tr>\n",
       "      <th>3</th>\n",
       "      <td>山形県</td>\n",
       "      <td>山形</td>\n",
       "    </tr>\n",
       "    <tr>\n",
       "      <th>4</th>\n",
       "      <td>山梨県</td>\n",
       "      <td>甲府</td>\n",
       "    </tr>\n",
       "    <tr>\n",
       "      <th>5</th>\n",
       "      <td>和歌山県</td>\n",
       "      <td>かつらぎ</td>\n",
       "    </tr>\n",
       "    <tr>\n",
       "      <th>6</th>\n",
       "      <td>静岡県</td>\n",
       "      <td>天竜</td>\n",
       "    </tr>\n",
       "    <tr>\n",
       "      <th>7</th>\n",
       "      <td>山梨県</td>\n",
       "      <td>勝沼</td>\n",
       "    </tr>\n",
       "    <tr>\n",
       "      <th>8</th>\n",
       "      <td>埼玉県</td>\n",
       "      <td>越谷</td>\n",
       "    </tr>\n",
       "    <tr>\n",
       "      <th>9</th>\n",
       "      <td>群馬県</td>\n",
       "      <td>館林</td>\n",
       "    </tr>\n",
       "  </tbody>\n",
       "</table>\n",
       "</div>"
      ],
      "text/plain": [
       "      0     1\n",
       "0   高知県   江川崎\n",
       "1   埼玉県    熊谷\n",
       "2   岐阜県   多治見\n",
       "3   山形県    山形\n",
       "4   山梨県    甲府\n",
       "5  和歌山県  かつらぎ\n",
       "6   静岡県    天竜\n",
       "7   山梨県    勝沼\n",
       "8   埼玉県    越谷\n",
       "9   群馬県    館林"
      ]
     },
     "execution_count": 104,
     "metadata": {},
     "output_type": "execute_result"
    }
   ],
   "source": [
    "pd.concat([data_1, data_2], axis=1).head(10)"
   ]
  },
  {
   "cell_type": "code",
   "execution_count": 103,
   "metadata": {},
   "outputs": [
    {
     "name": "stdout",
     "output_type": "stream",
     "text": [
      "高知県\t江川崎\n",
      "埼玉県\t熊谷\n",
      "岐阜県\t多治見\n",
      "山形県\t山形\n",
      "山梨県\t甲府\n",
      "和歌山県\tかつらぎ\n",
      "静岡県\t天竜\n",
      "山梨県\t勝沼\n",
      "埼玉県\t越谷\n",
      "群馬県\t館林\n"
     ]
    }
   ],
   "source": [
    "%%bash\n",
    "paste -d \"\\t\" col1.txt col2.txt > col1_2.txt \n",
    "head col1_2.txt"
   ]
  },
  {
   "cell_type": "markdown",
   "metadata": {},
   "source": [
    "### 14. 先頭からN行を出力\n",
    "自然数Nをコマンドライン引数などの手段で受け取り，入力のうち先頭のN行だけを表示せよ．確認にはheadコマンドを用いよ．\n"
   ]
  },
  {
   "cell_type": "code",
   "execution_count": 113,
   "metadata": {},
   "outputs": [
    {
     "data": {
      "text/plain": [
       "[['高知県', '江川崎', '41', '2013-08-12'],\n",
       " ['埼玉県', '熊谷', '40.9', '2007-08-16'],\n",
       " ['岐阜県', '多治見', '40.9', '2007-08-16'],\n",
       " ['山形県', '山形', '40.8', '1933-07-25'],\n",
       " ['山梨県', '甲府', '40.7', '2013-08-10']]"
      ]
     },
     "execution_count": 113,
     "metadata": {},
     "output_type": "execute_result"
    }
   ],
   "source": [
    "def head(filepath, n):\n",
    "    if type(filepath)!=str:\n",
    "        print(\"arg:filepath must be string\")\n",
    "    elif type(n) != int:\n",
    "        print(\"arg:n must be integer\")\n",
    "    else:\n",
    "        with open(filepath) as f:\n",
    "            output = []\n",
    "            for i in range(n):\n",
    "                output.append(f.readline().rstrip().split(\" \"))\n",
    "        return output\n",
    "\n",
    "head(\"hightemp.txt\",5)"
   ]
  },
  {
   "cell_type": "code",
   "execution_count": 106,
   "metadata": {},
   "outputs": [
    {
     "name": "stdout",
     "output_type": "stream",
     "text": [
      "高知県 江川崎 41 2013-08-12\n",
      "埼玉県 熊谷 40.9 2007-08-16\n",
      "岐阜県 多治見 40.9 2007-08-16\n",
      "山形県 山形 40.8 1933-07-25\n",
      "山梨県 甲府 40.7 2013-08-10\n"
     ]
    }
   ],
   "source": [
    "%%bash\n",
    "head -n 5 hightemp.txt"
   ]
  },
  {
   "cell_type": "markdown",
   "metadata": {},
   "source": [
    "### 15. 末尾のN行を出力\n",
    "自然数Nをコマンドライン引数などの手段で受け取り，入力のうち末尾のN行だけを表示せよ．確認にはtailコマンドを用いよ．\n"
   ]
  },
  {
   "cell_type": "code",
   "execution_count": 127,
   "metadata": {},
   "outputs": [
    {
     "data": {
      "text/plain": [
       "['愛知県 名古屋 39.9 1942-08-02\\n',\n",
       " '山形県 鶴岡 39.9 1978-08-03\\n',\n",
       " '山梨県 大月 39.9 1990-07-19\\n',\n",
       " '大阪府 豊中 39.9 1994-08-08\\n',\n",
       " '埼玉県 鳩山 39.9 1997-07-05\\n']"
      ]
     },
     "execution_count": 127,
     "metadata": {},
     "output_type": "execute_result"
    }
   ],
   "source": [
    "def tail(filepath, n):\n",
    "    if type(filepath)!=str:\n",
    "        print(\"arg:filepath must be string\")\n",
    "    elif type(n) != int:\n",
    "        print(\"arg:n must be integer\")\n",
    "    else:\n",
    "        with open(filepath) as f:\n",
    "            output = []\n",
    "            all_data = f.readlines()\n",
    "            for i in range(n):\n",
    "                output.append(all_data[-(i+1)])\n",
    "        return output\n",
    "\n",
    "tail(\"hightemp.txt\",5)"
   ]
  },
  {
   "cell_type": "code",
   "execution_count": 107,
   "metadata": {},
   "outputs": [
    {
     "name": "stdout",
     "output_type": "stream",
     "text": [
      "埼玉県 鳩山 39.9 1997-07-05\n",
      "大阪府 豊中 39.9 1994-08-08\n",
      "山梨県 大月 39.9 1990-07-19\n",
      "山形県 鶴岡 39.9 1978-08-03\n",
      "愛知県 名古屋 39.9 1942-08-02\n"
     ]
    }
   ],
   "source": [
    "%%bash\n",
    "tail -n 5 hightemp.txt"
   ]
  },
  {
   "cell_type": "markdown",
   "metadata": {},
   "source": [
    "### 16. ファイルをN分割する\n",
    "自然数Nをコマンドライン引数などの手段で受け取り，入力のファイルを行単位でN分割せよ．同様の処理をsplitコマンドで実現せよ．\n"
   ]
  },
  {
   "cell_type": "code",
   "execution_count": null,
   "metadata": {},
   "outputs": [],
   "source": []
  },
  {
   "cell_type": "markdown",
   "metadata": {},
   "source": [
    "### 17. １列目の文字列の異なり\n",
    "1列目の文字列の種類（異なる文字列の集合）を求めよ．確認にはsort, uniqコマンドを用いよ．\n"
   ]
  },
  {
   "cell_type": "code",
   "execution_count": null,
   "metadata": {},
   "outputs": [],
   "source": []
  },
  {
   "cell_type": "markdown",
   "metadata": {},
   "source": [
    "### 18. 各行を3コラム目の数値の降順にソート\n",
    "各行を3コラム目の数値の逆順で整列せよ（注意: 各行の内容は変更せずに並び替えよ）．確認にはsortコマンドを用いよ（この問題はコマンドで実行した時の結果と合わなくてもよい）．\n"
   ]
  },
  {
   "cell_type": "code",
   "execution_count": null,
   "metadata": {},
   "outputs": [],
   "source": []
  },
  {
   "cell_type": "markdown",
   "metadata": {},
   "source": [
    "### 19. 各行の1コラム目の文字列の出現頻度を求め，出現頻度の高い順に並べる\n",
    "各行の1列目の文字列の出現頻度を求め，その高い順に並べて表示せよ．確認にはcut, uniq, sortコマンドを用いよ．"
   ]
  },
  {
   "cell_type": "code",
   "execution_count": null,
   "metadata": {},
   "outputs": [],
   "source": []
  }
 ],
 "metadata": {
  "kernelspec": {
   "display_name": "Python 3",
   "language": "python",
   "name": "python3"
  },
  "language_info": {
   "codemirror_mode": {
    "name": "ipython",
    "version": 3
   },
   "file_extension": ".py",
   "mimetype": "text/x-python",
   "name": "python",
   "nbconvert_exporter": "python",
   "pygments_lexer": "ipython3",
   "version": "3.6.4"
  }
 },
 "nbformat": 4,
 "nbformat_minor": 2
}
