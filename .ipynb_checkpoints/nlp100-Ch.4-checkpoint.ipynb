{
 "cells": [
  {
   "cell_type": "markdown",
   "metadata": {},
   "source": [
    "# 言語処理100本ノック\n",
    "# 第4章: 形態素解析\n",
    "\n",
    "---\n",
    "\n",
    "夏目漱石の小説『吾輩は猫である』の文章（neko.txt）をMeCabを使って形態素解析し，その結果を`neko.txt.mecab`というファイルに保存せよ．このファイルを用いて，以下の問に対応するプログラムを実装せよ．\n",
    "\n",
    "なお，問題37, 38, 39は`matplotlib`もしくは`Gnuplot`を用いるとよい．"
   ]
  },
  {
   "cell_type": "code",
   "execution_count": 1,
   "metadata": {},
   "outputs": [],
   "source": [
    "from tqdm import tqdm_notebook as tqdm\n",
    "import os\n",
    "import sys\n",
    "import pandas as pd\n",
    "\n",
    "import matplotlib.pyplot as plt"
   ]
  },
  {
   "cell_type": "code",
   "execution_count": 2,
   "metadata": {},
   "outputs": [],
   "source": [
    "%matplotlib inline"
   ]
  },
  {
   "cell_type": "code",
   "execution_count": 3,
   "metadata": {},
   "outputs": [
    {
     "name": "stdout",
     "output_type": "stream",
     "text": [
      "neko.txt has already been exist\n"
     ]
    }
   ],
   "source": [
    "if os.path.exists(\"neko.txt\"):\n",
    "    print(\"neko.txt has already been exist\")\n",
    "else:\n",
    "    eval(\"wget http://www.cl.ecei.tohoku.ac.jp/nlp100/data/neko.txt\")"
   ]
  },
  {
   "cell_type": "code",
   "execution_count": 4,
   "metadata": {},
   "outputs": [
    {
     "name": "stdout",
     "output_type": "stream",
     "text": [
      "col1.txt                neko.txt.1              nlp100-Ch.6.ipynb\n",
      "col1_2.txt              neko.txt.mecab          nlp100-Ch.7.ipynb\n",
      "col2.txt                nlp100-Ch.1.ipynb       nlp100-Ch.8.ipynb\n",
      "hightemp.txt            nlp100-Ch.2.ipynb       nlp100-Ch.9.ipynb\n",
      "jawiki-country.json     nlp100-Ch.3.ipynb       nlp100-Ch10.ipynb\n",
      "jawiki-country.json.gz  nlp100-Ch.4.ipynb\n",
      "neko.txt                nlp100-Ch.5.ipynb\n"
     ]
    }
   ],
   "source": [
    "ls"
   ]
  },
  {
   "cell_type": "code",
   "execution_count": 5,
   "metadata": {},
   "outputs": [],
   "source": [
    "%%bash\n",
    "\n",
    "mecab -o neko.txt.mecab neko.txt"
   ]
  },
  {
   "cell_type": "code",
   "execution_count": 6,
   "metadata": {
    "scrolled": true
   },
   "outputs": [
    {
     "name": "stdout",
     "output_type": "stream",
     "text": [
      "-rw-r--r--  1 atsuya  staff     243  9  1 02:33 col1.txt\n",
      "-rw-r--r--  1 atsuya  staff     435  9  1 02:35 col1_2.txt\n",
      "-rw-r--r--  1 atsuya  staff     192  9  1 02:33 col2.txt\n",
      "-rw-r--r--@ 1 atsuya  staff     813  9  1 01:44 hightemp.txt\n",
      "-rw-r--r--@ 1 atsuya  staff  965971 10 14 18:23 neko.txt\n"
     ]
    }
   ],
   "source": [
    "ls -l *.txt"
   ]
  },
  {
   "cell_type": "code",
   "execution_count": 7,
   "metadata": {
    "scrolled": true
   },
   "outputs": [
    {
     "name": "stdout",
     "output_type": "stream",
     "text": [
      "EOS\n",
      "　\t記号,空白,*,*,*,*,　,　,　\n",
      "吾輩\t名詞,代名詞,一般,*,*,*,吾輩,ワガハイ,ワガハイ\n",
      "は\t助詞,係助詞,*,*,*,*,は,ハ,ワ\n",
      "猫\t名詞,一般,*,*,*,*,猫,ネコ,ネコ\n",
      "で\t助動詞,*,*,*,特殊・ダ,連用形,だ,デ,デ\n",
      "ある\t助動詞,*,*,*,五段・ラ行アル,基本形,ある,アル,アル\n",
      "。\t記号,句点,*,*,*,*,。,。,。\n",
      "EOS\n",
      "名前\t名詞,一般,*,*,*,*,名前,ナマエ,ナマエ\n"
     ]
    }
   ],
   "source": [
    "%%bash\n",
    "head -n 10 neko.txt.mecab"
   ]
  },
  {
   "cell_type": "markdown",
   "metadata": {},
   "source": [
    "## 30. 形態素解析結果の読み込み\n",
    "\n",
    "---\n",
    "\n",
    "形態素解析結果（`neko.txt.mecab`）を読み込むプログラムを実装せよ．ただし，各形態素は表層形（`surface`），基本形（`base`），品詞（`pos`），品詞細分類1（`pos1`）をキーとするマッピング型に格納し，1文を形態素（マッピング型）のリストとして表現せよ．第4章の残りの問題では，ここで作ったプログラムを活用せよ．"
   ]
  },
  {
   "cell_type": "code",
   "execution_count": 8,
   "metadata": {},
   "outputs": [],
   "source": [
    "\"\"\"\n",
    "EOS\n",
    "　\t記号,空白,*,*,*,*,　,　,　\n",
    "吾輩\t名詞,代名詞,一般,*,*,*,吾輩,ワガハイ,ワガハイ\n",
    "は\t助詞,係助詞,*,*,*,*,は,ハ,ワ\n",
    "猫\t名詞,一般,*,*,*,*,猫,ネコ,ネコ\n",
    "で\t助動詞,*,*,*,特殊・ダ,連用形,だ,デ,デ\n",
    "ある\t助動詞,*,*,*,五段・ラ行アル,基本形,ある,アル,アル\n",
    "。\t記号,句点,*,*,*,*,。,。,。\n",
    "EOS\n",
    "\n",
    "obj = {\n",
    "    \"surface\":\"suirface\",\n",
    "    \"base\":\"base\",\n",
    "    \"pos\":\"pos\",\n",
    "    \"pos1\":\"pos1\"\n",
    "}\n",
    "\n",
    "sentence = [obj1, obj2,..., objn]\n",
    "\n",
    "\"\"\"\n",
    "def line2dict(line: str, test=False) -> dict:\n",
    "    \n",
    "    try:\n",
    "        if line != \"EOS\" and line != \"\":\n",
    "            elements = line.split(\"\\t\")[1].split(\",\")\n",
    "            elements.append(line.split(\"\\t\")[0])\n",
    "        else:\n",
    "            return\n",
    "    except:\n",
    "        return\n",
    "\n",
    "    if test:\n",
    "        print(elements)\n",
    "    \n",
    "    if 0 < len(elements) < 4:\n",
    "        return {'surface': elements[-1],\n",
    "                'base': '',\n",
    "                'pos': '',\n",
    "                'pos1': ''}\n",
    "    else:\n",
    "        return {'surface': elements[-1],\n",
    "                'base': elements[6],\n",
    "                'pos': elements[0],\n",
    "                'pos1': elements[1]}\n",
    "\n",
    "\n",
    "def morphemes2sentence(morphemes: list) -> list:\n",
    "\n",
    "    sentences = []\n",
    "    sentence = []\n",
    "\n",
    "    for morpheme in morphemes:\n",
    "        sentence.append(morpheme)\n",
    "        if morpheme['pos'] == '記号' and morpheme['pos1'] == '句点':\n",
    "            sentences.append(sentence)\n",
    "            sentence = []\n",
    "\n",
    "    return sentences"
   ]
  },
  {
   "cell_type": "markdown",
   "metadata": {},
   "source": [
    "- 文から一行ずつ読んでリストにする"
   ]
  },
  {
   "cell_type": "code",
   "execution_count": 9,
   "metadata": {},
   "outputs": [],
   "source": [
    "with open('neko.txt.mecab', encoding='utf-8') as f:\n",
    "    # morphemes = [line2dict(line) for line in f]\n",
    "    morphemes = []\n",
    "    for line in f:\n",
    "        dic = line2dict(line)\n",
    "        if dic:\n",
    "            morphemes.append(dic)\n",
    "\n",
    "sentences = morphemes2sentence(morphemes)"
   ]
  },
  {
   "cell_type": "code",
   "execution_count": 10,
   "metadata": {},
   "outputs": [
    {
     "name": "stdout",
     "output_type": "stream",
     "text": [
      "['名詞', '代名詞', '一般', '*', '*', '*', '吾輩', 'ワガハイ', 'ワガハイ', '吾輩']\n"
     ]
    },
    {
     "data": {
      "text/plain": [
       "{'base': '吾輩', 'pos': '名詞', 'pos1': '代名詞', 'surface': '吾輩'}"
      ]
     },
     "execution_count": 10,
     "metadata": {},
     "output_type": "execute_result"
    }
   ],
   "source": [
    "test_s = \"吾輩\t名詞,代名詞,一般,*,*,*,吾輩,ワガハイ,ワガハイ\"\n",
    "\n",
    "line2dict(test_s, test=1)"
   ]
  },
  {
   "cell_type": "markdown",
   "metadata": {},
   "source": [
    "- 形態素のマッピング `morphemes`"
   ]
  },
  {
   "cell_type": "code",
   "execution_count": 11,
   "metadata": {},
   "outputs": [
    {
     "name": "stdout",
     "output_type": "stream",
     "text": [
      "全形態素数： 206365\n"
     ]
    },
    {
     "data": {
      "text/plain": [
       "[{'base': '\\u3000', 'pos': '記号', 'pos1': '空白', 'surface': '\\u3000'},\n",
       " {'base': '吾輩', 'pos': '名詞', 'pos1': '代名詞', 'surface': '吾輩'},\n",
       " {'base': 'は', 'pos': '助詞', 'pos1': '係助詞', 'surface': 'は'},\n",
       " {'base': '猫', 'pos': '名詞', 'pos1': '一般', 'surface': '猫'},\n",
       " {'base': 'だ', 'pos': '助動詞', 'pos1': '*', 'surface': 'で'}]"
      ]
     },
     "execution_count": 11,
     "metadata": {},
     "output_type": "execute_result"
    }
   ],
   "source": [
    "print(\"全形態素数：\", len(morphemes))\n",
    "morphemes[:5]"
   ]
  },
  {
   "cell_type": "markdown",
   "metadata": {},
   "source": [
    "- 一文毎にまとめたリスト `sentences`"
   ]
  },
  {
   "cell_type": "code",
   "execution_count": 12,
   "metadata": {},
   "outputs": [
    {
     "name": "stdout",
     "output_type": "stream",
     "text": [
      "全文数： 7486\n"
     ]
    },
    {
     "data": {
      "text/plain": [
       "[[{'base': '\\u3000', 'pos': '記号', 'pos1': '空白', 'surface': '\\u3000'},\n",
       "  {'base': '吾輩', 'pos': '名詞', 'pos1': '代名詞', 'surface': '吾輩'},\n",
       "  {'base': 'は', 'pos': '助詞', 'pos1': '係助詞', 'surface': 'は'},\n",
       "  {'base': '猫', 'pos': '名詞', 'pos1': '一般', 'surface': '猫'},\n",
       "  {'base': 'だ', 'pos': '助動詞', 'pos1': '*', 'surface': 'で'},\n",
       "  {'base': 'ある', 'pos': '助動詞', 'pos1': '*', 'surface': 'ある'},\n",
       "  {'base': '。', 'pos': '記号', 'pos1': '句点', 'surface': '。'}],\n",
       " [{'base': '名前', 'pos': '名詞', 'pos1': '一般', 'surface': '名前'},\n",
       "  {'base': 'は', 'pos': '助詞', 'pos1': '係助詞', 'surface': 'は'},\n",
       "  {'base': 'まだ', 'pos': '副詞', 'pos1': '助詞類接続', 'surface': 'まだ'},\n",
       "  {'base': '無い', 'pos': '形容詞', 'pos1': '自立', 'surface': '無い'},\n",
       "  {'base': '。', 'pos': '記号', 'pos1': '句点', 'surface': '。'}]]"
      ]
     },
     "execution_count": 12,
     "metadata": {},
     "output_type": "execute_result"
    }
   ],
   "source": [
    "print(\"全文数：\", len(sentences))\n",
    "sentences[:2]"
   ]
  },
  {
   "cell_type": "markdown",
   "metadata": {},
   "source": [
    "- あつかいやすいように， `pandas.DataFrame`型にしたい…\n",
    "\n",
    "`columns`を， `base`, `pos`, `pos1`, `surface`にする。"
   ]
  },
  {
   "cell_type": "code",
   "execution_count": 13,
   "metadata": {},
   "outputs": [
    {
     "data": {
      "text/html": [
       "<div>\n",
       "<style scoped>\n",
       "    .dataframe tbody tr th:only-of-type {\n",
       "        vertical-align: middle;\n",
       "    }\n",
       "\n",
       "    .dataframe tbody tr th {\n",
       "        vertical-align: top;\n",
       "    }\n",
       "\n",
       "    .dataframe thead th {\n",
       "        text-align: right;\n",
       "    }\n",
       "</style>\n",
       "<table border=\"1\" class=\"dataframe\">\n",
       "  <thead>\n",
       "    <tr style=\"text-align: right;\">\n",
       "      <th></th>\n",
       "      <th>surface</th>\n",
       "      <th>base</th>\n",
       "      <th>pos</th>\n",
       "      <th>pos1</th>\n",
       "    </tr>\n",
       "  </thead>\n",
       "  <tbody>\n",
       "    <tr>\n",
       "      <th>0</th>\n",
       "      <td></td>\n",
       "      <td></td>\n",
       "      <td>記号</td>\n",
       "      <td>空白</td>\n",
       "    </tr>\n",
       "    <tr>\n",
       "      <th>1</th>\n",
       "      <td>吾輩</td>\n",
       "      <td>吾輩</td>\n",
       "      <td>名詞</td>\n",
       "      <td>代名詞</td>\n",
       "    </tr>\n",
       "    <tr>\n",
       "      <th>2</th>\n",
       "      <td>は</td>\n",
       "      <td>は</td>\n",
       "      <td>助詞</td>\n",
       "      <td>係助詞</td>\n",
       "    </tr>\n",
       "    <tr>\n",
       "      <th>3</th>\n",
       "      <td>猫</td>\n",
       "      <td>猫</td>\n",
       "      <td>名詞</td>\n",
       "      <td>一般</td>\n",
       "    </tr>\n",
       "    <tr>\n",
       "      <th>4</th>\n",
       "      <td>で</td>\n",
       "      <td>だ</td>\n",
       "      <td>助動詞</td>\n",
       "      <td>*</td>\n",
       "    </tr>\n",
       "    <tr>\n",
       "      <th>5</th>\n",
       "      <td>ある</td>\n",
       "      <td>ある</td>\n",
       "      <td>助動詞</td>\n",
       "      <td>*</td>\n",
       "    </tr>\n",
       "    <tr>\n",
       "      <th>6</th>\n",
       "      <td>。</td>\n",
       "      <td>。</td>\n",
       "      <td>記号</td>\n",
       "      <td>句点</td>\n",
       "    </tr>\n",
       "    <tr>\n",
       "      <th>7</th>\n",
       "      <td>名前</td>\n",
       "      <td>名前</td>\n",
       "      <td>名詞</td>\n",
       "      <td>一般</td>\n",
       "    </tr>\n",
       "    <tr>\n",
       "      <th>8</th>\n",
       "      <td>は</td>\n",
       "      <td>は</td>\n",
       "      <td>助詞</td>\n",
       "      <td>係助詞</td>\n",
       "    </tr>\n",
       "    <tr>\n",
       "      <th>9</th>\n",
       "      <td>まだ</td>\n",
       "      <td>まだ</td>\n",
       "      <td>副詞</td>\n",
       "      <td>助詞類接続</td>\n",
       "    </tr>\n",
       "  </tbody>\n",
       "</table>\n",
       "</div>"
      ],
      "text/plain": [
       "  surface base  pos   pos1\n",
       "0       　    　   記号     空白\n",
       "1      吾輩   吾輩   名詞    代名詞\n",
       "2       は    は   助詞    係助詞\n",
       "3       猫    猫   名詞     一般\n",
       "4       で    だ  助動詞      *\n",
       "5      ある   ある  助動詞      *\n",
       "6       。    。   記号     句点\n",
       "7      名前   名前   名詞     一般\n",
       "8       は    は   助詞    係助詞\n",
       "9      まだ   まだ   副詞  助詞類接続"
      ]
     },
     "execution_count": 13,
     "metadata": {},
     "output_type": "execute_result"
    }
   ],
   "source": [
    "df_morphemes = []\n",
    "\n",
    "for morph in morphemes:\n",
    "    df_morphemes.append(morph.values())\n",
    "\n",
    "df_morphemes = pd.DataFrame(df_morphemes)\n",
    "\n",
    "df_morphemes.columns = [\"surface\", \"base\", \"pos\", \"pos1\"]\n",
    "\n",
    "df_morphemes.head(10)"
   ]
  },
  {
   "cell_type": "markdown",
   "metadata": {},
   "source": [
    "## 31. 動詞\n",
    "\n",
    "---\n",
    "\n",
    "動詞の表層形をすべて抽出せよ．\n",
    "\n",
    "> `pandas`でスライスすればいいよね"
   ]
  },
  {
   "cell_type": "code",
   "execution_count": 14,
   "metadata": {},
   "outputs": [
    {
     "data": {
      "text/plain": [
       "['生れ', 'つか', 'し', '泣い', 'し', 'いる', '始め', '見', '聞く', '捕え']"
      ]
     },
     "execution_count": 14,
     "metadata": {},
     "output_type": "execute_result"
    }
   ],
   "source": [
    "verbs_surface = list(df_morphemes[(df_morphemes.pos == \"動詞\")][\"surface\"])\n",
    "\n",
    "verbs_surface[0:10]"
   ]
  },
  {
   "cell_type": "markdown",
   "metadata": {},
   "source": [
    "## 32. 動詞の原形\n",
    "\n",
    "---\n",
    "\n",
    "動詞の原形をすべて抽出せよ．\n",
    "\n",
    "> `pandas`でスライスすればいいよね"
   ]
  },
  {
   "cell_type": "code",
   "execution_count": 15,
   "metadata": {},
   "outputs": [
    {
     "data": {
      "text/plain": [
       "['生れる', 'つく', 'する', '泣く', 'する', 'いる', '始める', '見る', '聞く', '捕える']"
      ]
     },
     "execution_count": 15,
     "metadata": {},
     "output_type": "execute_result"
    }
   ],
   "source": [
    "verbs_base = list(df_morphemes[(df_morphemes.pos == \"動詞\")][\"base\"])\n",
    "\n",
    "verbs_base[0:10]"
   ]
  },
  {
   "cell_type": "markdown",
   "metadata": {},
   "source": [
    "## 33. サ変名詞\n",
    "\n",
    "---\n",
    "\n",
    "サ変接続の名詞をすべて抽出せよ．\n",
    "\n",
    "> `pandas`でスライスすればいいよね"
   ]
  },
  {
   "cell_type": "code",
   "execution_count": 16,
   "metadata": {},
   "outputs": [
    {
     "data": {
      "text/html": [
       "<div>\n",
       "<style scoped>\n",
       "    .dataframe tbody tr th:only-of-type {\n",
       "        vertical-align: middle;\n",
       "    }\n",
       "\n",
       "    .dataframe tbody tr th {\n",
       "        vertical-align: top;\n",
       "    }\n",
       "\n",
       "    .dataframe thead th {\n",
       "        text-align: right;\n",
       "    }\n",
       "</style>\n",
       "<table border=\"1\" class=\"dataframe\">\n",
       "  <thead>\n",
       "    <tr style=\"text-align: right;\">\n",
       "      <th></th>\n",
       "      <th>surface</th>\n",
       "      <th>base</th>\n",
       "      <th>pos</th>\n",
       "      <th>pos1</th>\n",
       "    </tr>\n",
       "  </thead>\n",
       "  <tbody>\n",
       "    <tr>\n",
       "      <th>19</th>\n",
       "      <td>見当</td>\n",
       "      <td>見当</td>\n",
       "      <td>名詞</td>\n",
       "      <td>サ変接続</td>\n",
       "    </tr>\n",
       "    <tr>\n",
       "      <th>38</th>\n",
       "      <td>記憶</td>\n",
       "      <td>記憶</td>\n",
       "      <td>名詞</td>\n",
       "      <td>サ変接続</td>\n",
       "    </tr>\n",
       "    <tr>\n",
       "      <th>92</th>\n",
       "      <td>話</td>\n",
       "      <td>話</td>\n",
       "      <td>名詞</td>\n",
       "      <td>サ変接続</td>\n",
       "    </tr>\n",
       "    <tr>\n",
       "      <th>187</th>\n",
       "      <td>装飾</td>\n",
       "      <td>装飾</td>\n",
       "      <td>名詞</td>\n",
       "      <td>サ変接続</td>\n",
       "    </tr>\n",
       "    <tr>\n",
       "      <th>233</th>\n",
       "      <td>突起</td>\n",
       "      <td>突起</td>\n",
       "      <td>名詞</td>\n",
       "      <td>サ変接続</td>\n",
       "    </tr>\n",
       "  </tbody>\n",
       "</table>\n",
       "</div>"
      ],
      "text/plain": [
       "    surface base pos  pos1\n",
       "19       見当   見当  名詞  サ変接続\n",
       "38       記憶   記憶  名詞  サ変接続\n",
       "92        話    話  名詞  サ変接続\n",
       "187      装飾   装飾  名詞  サ変接続\n",
       "233      突起   突起  名詞  サ変接続"
      ]
     },
     "execution_count": 16,
     "metadata": {},
     "output_type": "execute_result"
    }
   ],
   "source": [
    "noun_sahen = df_morphemes[(df_morphemes.pos1 == \"サ変接続\")]\n",
    "\n",
    "noun_sahen.head()"
   ]
  },
  {
   "cell_type": "markdown",
   "metadata": {},
   "source": [
    "## 34. 「AのB」\n",
    "\n",
    "---\n",
    "\n",
    "2つの名詞が「の」で連結されている名詞句を抽出せよ．\n",
    "\n",
    "> 「の」を探して，それらの前後を抜き出し，どちらも名詞だった場合は抽出する！"
   ]
  },
  {
   "cell_type": "code",
   "execution_count": 17,
   "metadata": {},
   "outputs": [
    {
     "data": {
      "text/html": [
       "<div>\n",
       "<style scoped>\n",
       "    .dataframe tbody tr th:only-of-type {\n",
       "        vertical-align: middle;\n",
       "    }\n",
       "\n",
       "    .dataframe tbody tr th {\n",
       "        vertical-align: top;\n",
       "    }\n",
       "\n",
       "    .dataframe thead th {\n",
       "        text-align: right;\n",
       "    }\n",
       "</style>\n",
       "<table border=\"1\" class=\"dataframe\">\n",
       "  <thead>\n",
       "    <tr style=\"text-align: right;\">\n",
       "      <th></th>\n",
       "      <th>surface</th>\n",
       "      <th>base</th>\n",
       "      <th>pos</th>\n",
       "      <th>pos1</th>\n",
       "    </tr>\n",
       "  </thead>\n",
       "  <tbody>\n",
       "    <tr>\n",
       "      <th>115</th>\n",
       "      <td>彼</td>\n",
       "      <td>彼</td>\n",
       "      <td>名詞</td>\n",
       "      <td>代名詞</td>\n",
       "    </tr>\n",
       "    <tr>\n",
       "      <th>140</th>\n",
       "      <td>掌</td>\n",
       "      <td>掌</td>\n",
       "      <td>名詞</td>\n",
       "      <td>一般</td>\n",
       "    </tr>\n",
       "    <tr>\n",
       "      <th>147</th>\n",
       "      <td>書生</td>\n",
       "      <td>書生</td>\n",
       "      <td>名詞</td>\n",
       "      <td>一般</td>\n",
       "    </tr>\n",
       "    <tr>\n",
       "      <th>191</th>\n",
       "      <td>はず</td>\n",
       "      <td>はず</td>\n",
       "      <td>名詞</td>\n",
       "      <td>非自立</td>\n",
       "    </tr>\n",
       "    <tr>\n",
       "      <th>228</th>\n",
       "      <td>顔</td>\n",
       "      <td>顔</td>\n",
       "      <td>名詞</td>\n",
       "      <td>一般</td>\n",
       "    </tr>\n",
       "    <tr>\n",
       "      <th>240</th>\n",
       "      <td>穴</td>\n",
       "      <td>穴</td>\n",
       "      <td>名詞</td>\n",
       "      <td>一般</td>\n",
       "    </tr>\n",
       "    <tr>\n",
       "      <th>279</th>\n",
       "      <td>書生</td>\n",
       "      <td>書生</td>\n",
       "      <td>名詞</td>\n",
       "      <td>一般</td>\n",
       "    </tr>\n",
       "    <tr>\n",
       "      <th>281</th>\n",
       "      <td>掌</td>\n",
       "      <td>掌</td>\n",
       "      <td>名詞</td>\n",
       "      <td>一般</td>\n",
       "    </tr>\n",
       "    <tr>\n",
       "      <th>366</th>\n",
       "      <td>何</td>\n",
       "      <td>何</td>\n",
       "      <td>名詞</td>\n",
       "      <td>代名詞</td>\n",
       "    </tr>\n",
       "    <tr>\n",
       "      <th>401</th>\n",
       "      <td>肝心</td>\n",
       "      <td>肝心</td>\n",
       "      <td>名詞</td>\n",
       "      <td>形容動詞語幹</td>\n",
       "    </tr>\n",
       "  </tbody>\n",
       "</table>\n",
       "</div>"
      ],
      "text/plain": [
       "    surface base pos    pos1\n",
       "115       彼    彼  名詞     代名詞\n",
       "140       掌    掌  名詞      一般\n",
       "147      書生   書生  名詞      一般\n",
       "191      はず   はず  名詞     非自立\n",
       "228       顔    顔  名詞      一般\n",
       "240       穴    穴  名詞      一般\n",
       "279      書生   書生  名詞      一般\n",
       "281       掌    掌  名詞      一般\n",
       "366       何    何  名詞     代名詞\n",
       "401      肝心   肝心  名詞  形容動詞語幹"
      ]
     },
     "execution_count": 17,
     "metadata": {},
     "output_type": "execute_result"
    }
   ],
   "source": [
    "\"\"\"\n",
    "A\n",
    "の\n",
    "B\n",
    "\n",
    "Aの部分を表すブールのリストが no_pre\n",
    "\"\"\"\n",
    "# ブールのリストにして前にずらす。\n",
    "no_pre = list(df_morphemes.base == \"の\")[1:]\n",
    "no_pre.append(False)\n",
    "\n",
    "# 「の」の前で，かつ名詞である部分をブールでもつ\n",
    "is_noun = (df_morphemes.pos == \"名詞\")\n",
    "no_pre =  ((no_pre) & (is_noun))\n",
    "\n",
    "# 2形態素先のチェック→前後(A,B)ともに名詞形だった部分を抽出\n",
    "a = []\n",
    "\n",
    "for idx, n in enumerate(no_pre):\n",
    "    if n:\n",
    "        if list(is_noun)[idx + 2] == True:\n",
    "            a.append(True)\n",
    "        else:\n",
    "            a.append(False)\n",
    "    else:\n",
    "        a.append(False)\n",
    "\n",
    "\n",
    "df_morphemes[a].head(10)"
   ]
  },
  {
   "cell_type": "markdown",
   "metadata": {},
   "source": [
    "## 35. 名詞の連接\n",
    "\n",
    "---\n",
    "\n",
    "名詞の連接（連続して出現する名詞）を**最長一致**で抽出せよ．\n",
    "\n",
    "> **最長一致**：なるべく長く対応…  \n",
    "> どうする"
   ]
  },
  {
   "cell_type": "code",
   "execution_count": 18,
   "metadata": {},
   "outputs": [],
   "source": [
    "# 愚直にループ回してみようかとおもう。\n",
    "\n",
    "idx, cnt, max_cnt = 0, 0, 0\n",
    "for i, morph in df_morphemes.iterrows():\n",
    "    if morph.pos == \"名詞\":\n",
    "        cnt += 1\n",
    "        max_cnt, idx = cnt, i if cnt > max_cnt else None\n",
    "    else:\n",
    "        cnt = 0\n",
    "        "
   ]
  },
  {
   "cell_type": "code",
   "execution_count": 19,
   "metadata": {},
   "outputs": [
    {
     "data": {
      "text/plain": [
       "(28, 206364)"
      ]
     },
     "execution_count": 19,
     "metadata": {},
     "output_type": "execute_result"
    }
   ],
   "source": [
    "max_cnt, idx"
   ]
  },
  {
   "cell_type": "code",
   "execution_count": 20,
   "metadata": {},
   "outputs": [
    {
     "data": {
      "text/html": [
       "<div>\n",
       "<style scoped>\n",
       "    .dataframe tbody tr th:only-of-type {\n",
       "        vertical-align: middle;\n",
       "    }\n",
       "\n",
       "    .dataframe tbody tr th {\n",
       "        vertical-align: top;\n",
       "    }\n",
       "\n",
       "    .dataframe thead th {\n",
       "        text-align: right;\n",
       "    }\n",
       "</style>\n",
       "<table border=\"1\" class=\"dataframe\">\n",
       "  <thead>\n",
       "    <tr style=\"text-align: right;\">\n",
       "      <th></th>\n",
       "      <th>surface</th>\n",
       "      <th>base</th>\n",
       "      <th>pos</th>\n",
       "      <th>pos1</th>\n",
       "    </tr>\n",
       "  </thead>\n",
       "  <tbody>\n",
       "    <tr>\n",
       "      <th>206336</th>\n",
       "      <td>。</td>\n",
       "      <td>。</td>\n",
       "      <td>記号</td>\n",
       "      <td>句点</td>\n",
       "    </tr>\n",
       "    <tr>\n",
       "      <th>206337</th>\n",
       "      <td>©</td>\n",
       "      <td>*\\n</td>\n",
       "      <td>名詞</td>\n",
       "      <td>サ変接続</td>\n",
       "    </tr>\n",
       "    <tr>\n",
       "      <th>206338</th>\n",
       "      <td>2018</td>\n",
       "      <td>*\\n</td>\n",
       "      <td>名詞</td>\n",
       "      <td>数</td>\n",
       "    </tr>\n",
       "    <tr>\n",
       "      <th>206339</th>\n",
       "      <td>GitHub</td>\n",
       "      <td>*\\n</td>\n",
       "      <td>名詞</td>\n",
       "      <td>一般</td>\n",
       "    </tr>\n",
       "    <tr>\n",
       "      <th>206340</th>\n",
       "      <td>,</td>\n",
       "      <td>*\\n</td>\n",
       "      <td>名詞</td>\n",
       "      <td>サ変接続</td>\n",
       "    </tr>\n",
       "    <tr>\n",
       "      <th>206341</th>\n",
       "      <td>Inc</td>\n",
       "      <td>*\\n</td>\n",
       "      <td>名詞</td>\n",
       "      <td>一般</td>\n",
       "    </tr>\n",
       "    <tr>\n",
       "      <th>206342</th>\n",
       "      <td>.</td>\n",
       "      <td>*\\n</td>\n",
       "      <td>名詞</td>\n",
       "      <td>サ変接続</td>\n",
       "    </tr>\n",
       "    <tr>\n",
       "      <th>206343</th>\n",
       "      <td>Terms</td>\n",
       "      <td>*\\n</td>\n",
       "      <td>名詞</td>\n",
       "      <td>固有名詞</td>\n",
       "    </tr>\n",
       "    <tr>\n",
       "      <th>206344</th>\n",
       "      <td>Privacy</td>\n",
       "      <td>*\\n</td>\n",
       "      <td>名詞</td>\n",
       "      <td>固有名詞</td>\n",
       "    </tr>\n",
       "    <tr>\n",
       "      <th>206345</th>\n",
       "      <td>Security</td>\n",
       "      <td>*\\n</td>\n",
       "      <td>名詞</td>\n",
       "      <td>固有名詞</td>\n",
       "    </tr>\n",
       "    <tr>\n",
       "      <th>206346</th>\n",
       "      <td>Status</td>\n",
       "      <td>*\\n</td>\n",
       "      <td>名詞</td>\n",
       "      <td>固有名詞</td>\n",
       "    </tr>\n",
       "    <tr>\n",
       "      <th>206347</th>\n",
       "      <td>Help</td>\n",
       "      <td>*\\n</td>\n",
       "      <td>名詞</td>\n",
       "      <td>固有名詞</td>\n",
       "    </tr>\n",
       "    <tr>\n",
       "      <th>206348</th>\n",
       "      <td>Contact</td>\n",
       "      <td>*\\n</td>\n",
       "      <td>名詞</td>\n",
       "      <td>固有名詞</td>\n",
       "    </tr>\n",
       "    <tr>\n",
       "      <th>206349</th>\n",
       "      <td>GitHub</td>\n",
       "      <td>*\\n</td>\n",
       "      <td>名詞</td>\n",
       "      <td>一般</td>\n",
       "    </tr>\n",
       "    <tr>\n",
       "      <th>206350</th>\n",
       "      <td>Pricing</td>\n",
       "      <td>*\\n</td>\n",
       "      <td>名詞</td>\n",
       "      <td>固有名詞</td>\n",
       "    </tr>\n",
       "    <tr>\n",
       "      <th>206351</th>\n",
       "      <td>API</td>\n",
       "      <td>*\\n</td>\n",
       "      <td>名詞</td>\n",
       "      <td>固有名詞</td>\n",
       "    </tr>\n",
       "    <tr>\n",
       "      <th>206352</th>\n",
       "      <td>Training</td>\n",
       "      <td>*\\n</td>\n",
       "      <td>名詞</td>\n",
       "      <td>固有名詞</td>\n",
       "    </tr>\n",
       "    <tr>\n",
       "      <th>206353</th>\n",
       "      <td>Blog</td>\n",
       "      <td>*\\n</td>\n",
       "      <td>名詞</td>\n",
       "      <td>固有名詞</td>\n",
       "    </tr>\n",
       "    <tr>\n",
       "      <th>206354</th>\n",
       "      <td>About</td>\n",
       "      <td>*\\n</td>\n",
       "      <td>名詞</td>\n",
       "      <td>固有名詞</td>\n",
       "    </tr>\n",
       "    <tr>\n",
       "      <th>206355</th>\n",
       "      <td>Press</td>\n",
       "      <td>*\\n</td>\n",
       "      <td>名詞</td>\n",
       "      <td>固有名詞</td>\n",
       "    </tr>\n",
       "    <tr>\n",
       "      <th>206356</th>\n",
       "      <td>h</td>\n",
       "      <td>*\\n</td>\n",
       "      <td>名詞</td>\n",
       "      <td>一般</td>\n",
       "    </tr>\n",
       "    <tr>\n",
       "      <th>206357</th>\n",
       "      <td>to</td>\n",
       "      <td>*\\n</td>\n",
       "      <td>名詞</td>\n",
       "      <td>一般</td>\n",
       "    </tr>\n",
       "    <tr>\n",
       "      <th>206358</th>\n",
       "      <td>open</td>\n",
       "      <td>*\\n</td>\n",
       "      <td>名詞</td>\n",
       "      <td>一般</td>\n",
       "    </tr>\n",
       "    <tr>\n",
       "      <th>206359</th>\n",
       "      <td>a</td>\n",
       "      <td>*\\n</td>\n",
       "      <td>名詞</td>\n",
       "      <td>一般</td>\n",
       "    </tr>\n",
       "    <tr>\n",
       "      <th>206360</th>\n",
       "      <td>hovercard</td>\n",
       "      <td>*\\n</td>\n",
       "      <td>名詞</td>\n",
       "      <td>一般</td>\n",
       "    </tr>\n",
       "    <tr>\n",
       "      <th>206361</th>\n",
       "      <td>with</td>\n",
       "      <td>*\\n</td>\n",
       "      <td>名詞</td>\n",
       "      <td>一般</td>\n",
       "    </tr>\n",
       "    <tr>\n",
       "      <th>206362</th>\n",
       "      <td>more</td>\n",
       "      <td>*\\n</td>\n",
       "      <td>名詞</td>\n",
       "      <td>一般</td>\n",
       "    </tr>\n",
       "    <tr>\n",
       "      <th>206363</th>\n",
       "      <td>details</td>\n",
       "      <td>*\\n</td>\n",
       "      <td>名詞</td>\n",
       "      <td>一般</td>\n",
       "    </tr>\n",
       "  </tbody>\n",
       "</table>\n",
       "</div>"
      ],
      "text/plain": [
       "          surface base pos  pos1\n",
       "206336          。    。  記号    句点\n",
       "206337          ©  *\\n  名詞  サ変接続\n",
       "206338       2018  *\\n  名詞     数\n",
       "206339     GitHub  *\\n  名詞    一般\n",
       "206340          ,  *\\n  名詞  サ変接続\n",
       "206341        Inc  *\\n  名詞    一般\n",
       "206342          .  *\\n  名詞  サ変接続\n",
       "206343      Terms  *\\n  名詞  固有名詞\n",
       "206344    Privacy  *\\n  名詞  固有名詞\n",
       "206345   Security  *\\n  名詞  固有名詞\n",
       "206346     Status  *\\n  名詞  固有名詞\n",
       "206347       Help  *\\n  名詞  固有名詞\n",
       "206348    Contact  *\\n  名詞  固有名詞\n",
       "206349     GitHub  *\\n  名詞    一般\n",
       "206350    Pricing  *\\n  名詞  固有名詞\n",
       "206351        API  *\\n  名詞  固有名詞\n",
       "206352   Training  *\\n  名詞  固有名詞\n",
       "206353       Blog  *\\n  名詞  固有名詞\n",
       "206354      About  *\\n  名詞  固有名詞\n",
       "206355      Press  *\\n  名詞  固有名詞\n",
       "206356          h  *\\n  名詞    一般\n",
       "206357         to  *\\n  名詞    一般\n",
       "206358       open  *\\n  名詞    一般\n",
       "206359          a  *\\n  名詞    一般\n",
       "206360  hovercard  *\\n  名詞    一般\n",
       "206361       with  *\\n  名詞    一般\n",
       "206362       more  *\\n  名詞    一般\n",
       "206363    details  *\\n  名詞    一般"
      ]
     },
     "execution_count": 20,
     "metadata": {},
     "output_type": "execute_result"
    }
   ],
   "source": [
    "df_morphemes.iloc[idx-max_cnt:idx, :]"
   ]
  },
  {
   "cell_type": "markdown",
   "metadata": {},
   "source": [
    "## 36. 単語の出現頻度\n",
    "\n",
    "---\n",
    "\n",
    "文章中に出現する単語とその出現頻度を求め，出現頻度の高い順に並べよ．\n",
    "\n",
    "> `pandas.DataFrame.value_counts`でイケる気が"
   ]
  },
  {
   "cell_type": "code",
   "execution_count": 21,
   "metadata": {},
   "outputs": [
    {
     "data": {
      "text/html": [
       "<div>\n",
       "<style scoped>\n",
       "    .dataframe tbody tr th:only-of-type {\n",
       "        vertical-align: middle;\n",
       "    }\n",
       "\n",
       "    .dataframe tbody tr th {\n",
       "        vertical-align: top;\n",
       "    }\n",
       "\n",
       "    .dataframe thead th {\n",
       "        text-align: right;\n",
       "    }\n",
       "</style>\n",
       "<table border=\"1\" class=\"dataframe\">\n",
       "  <thead>\n",
       "    <tr style=\"text-align: right;\">\n",
       "      <th></th>\n",
       "      <th>index</th>\n",
       "      <th>出現頻度</th>\n",
       "    </tr>\n",
       "  </thead>\n",
       "  <tbody>\n",
       "    <tr>\n",
       "      <th>0</th>\n",
       "      <td>の</td>\n",
       "      <td>9194</td>\n",
       "    </tr>\n",
       "    <tr>\n",
       "      <th>1</th>\n",
       "      <td>。</td>\n",
       "      <td>7486</td>\n",
       "    </tr>\n",
       "    <tr>\n",
       "      <th>2</th>\n",
       "      <td>て</td>\n",
       "      <td>6848</td>\n",
       "    </tr>\n",
       "    <tr>\n",
       "      <th>3</th>\n",
       "      <td>、</td>\n",
       "      <td>6772</td>\n",
       "    </tr>\n",
       "    <tr>\n",
       "      <th>4</th>\n",
       "      <td>は</td>\n",
       "      <td>6420</td>\n",
       "    </tr>\n",
       "  </tbody>\n",
       "</table>\n",
       "</div>"
      ],
      "text/plain": [
       "  index  出現頻度\n",
       "0     の  9194\n",
       "1     。  7486\n",
       "2     て  6848\n",
       "3     、  6772\n",
       "4     は  6420"
      ]
     },
     "execution_count": 21,
     "metadata": {},
     "output_type": "execute_result"
    }
   ],
   "source": [
    "word_freq = pd.DataFrame(df_morphemes.base.value_counts())\n",
    "word_freq.columns = [\"出現頻度\"]\n",
    "word_freq.reset_index(inplace=True)\n",
    "word_freq.head(5)"
   ]
  },
  {
   "cell_type": "markdown",
   "metadata": {},
   "source": [
    "- `名詞-一般`のみに限定するとどうなるか。上位15単語を抽出してみる"
   ]
  },
  {
   "cell_type": "code",
   "execution_count": 22,
   "metadata": {},
   "outputs": [
    {
     "data": {
      "text/html": [
       "<div>\n",
       "<style scoped>\n",
       "    .dataframe tbody tr th:only-of-type {\n",
       "        vertical-align: middle;\n",
       "    }\n",
       "\n",
       "    .dataframe tbody tr th {\n",
       "        vertical-align: top;\n",
       "    }\n",
       "\n",
       "    .dataframe thead th {\n",
       "        text-align: right;\n",
       "    }\n",
       "</style>\n",
       "<table border=\"1\" class=\"dataframe\">\n",
       "  <thead>\n",
       "    <tr style=\"text-align: right;\">\n",
       "      <th></th>\n",
       "      <th>index</th>\n",
       "      <th>出現頻度</th>\n",
       "    </tr>\n",
       "  </thead>\n",
       "  <tbody>\n",
       "    <tr>\n",
       "      <th>0</th>\n",
       "      <td>*\\n</td>\n",
       "      <td>1746</td>\n",
       "    </tr>\n",
       "    <tr>\n",
       "      <th>1</th>\n",
       "      <td>主人</td>\n",
       "      <td>932</td>\n",
       "    </tr>\n",
       "    <tr>\n",
       "      <th>2</th>\n",
       "      <td>人</td>\n",
       "      <td>355</td>\n",
       "    </tr>\n",
       "    <tr>\n",
       "      <th>3</th>\n",
       "      <td>先生</td>\n",
       "      <td>274</td>\n",
       "    </tr>\n",
       "    <tr>\n",
       "      <th>4</th>\n",
       "      <td>人間</td>\n",
       "      <td>272</td>\n",
       "    </tr>\n",
       "    <tr>\n",
       "      <th>5</th>\n",
       "      <td>顔</td>\n",
       "      <td>271</td>\n",
       "    </tr>\n",
       "    <tr>\n",
       "      <th>6</th>\n",
       "      <td>猫</td>\n",
       "      <td>248</td>\n",
       "    </tr>\n",
       "    <tr>\n",
       "      <th>7</th>\n",
       "      <td>細君</td>\n",
       "      <td>213</td>\n",
       "    </tr>\n",
       "    <tr>\n",
       "      <th>8</th>\n",
       "      <td>鼻</td>\n",
       "      <td>199</td>\n",
       "    </tr>\n",
       "    <tr>\n",
       "      <th>9</th>\n",
       "      <td>自分</td>\n",
       "      <td>175</td>\n",
       "    </tr>\n",
       "    <tr>\n",
       "      <th>10</th>\n",
       "      <td>頭</td>\n",
       "      <td>166</td>\n",
       "    </tr>\n",
       "    <tr>\n",
       "      <th>11</th>\n",
       "      <td>気</td>\n",
       "      <td>157</td>\n",
       "    </tr>\n",
       "    <tr>\n",
       "      <th>12</th>\n",
       "      <td>男</td>\n",
       "      <td>147</td>\n",
       "    </tr>\n",
       "    <tr>\n",
       "      <th>13</th>\n",
       "      <td>声</td>\n",
       "      <td>145</td>\n",
       "    </tr>\n",
       "    <tr>\n",
       "      <th>14</th>\n",
       "      <td>眼</td>\n",
       "      <td>142</td>\n",
       "    </tr>\n",
       "  </tbody>\n",
       "</table>\n",
       "</div>"
      ],
      "text/plain": [
       "   index  出現頻度\n",
       "0    *\\n  1746\n",
       "1     主人   932\n",
       "2      人   355\n",
       "3     先生   274\n",
       "4     人間   272\n",
       "5      顔   271\n",
       "6      猫   248\n",
       "7     細君   213\n",
       "8      鼻   199\n",
       "9     自分   175\n",
       "10     頭   166\n",
       "11     気   157\n",
       "12     男   147\n",
       "13     声   145\n",
       "14     眼   142"
      ]
     },
     "execution_count": 22,
     "metadata": {},
     "output_type": "execute_result"
    }
   ],
   "source": [
    "noun_freq = pd.DataFrame(df_morphemes[(df_morphemes.pos1 == \"一般\") & (is_noun)]\n",
    "                         .base.value_counts())\n",
    "\n",
    "noun_freq.columns = [\"出現頻度\"]\n",
    "noun_freq.reset_index(inplace=True)\n",
    "noun_freq.head(15)"
   ]
  },
  {
   "cell_type": "markdown",
   "metadata": {},
   "source": [
    "## 37. 頻度上位10語\n",
    "\n",
    "---\n",
    "\n",
    "出現頻度が高い10語とその出現頻度をグラフ（例えば棒グラフなど）で表示せよ．\n",
    "\n",
    "> `pandas.plot`を用いる。円グラフと棒グラフを2つ描画し，それらを`subplot`で並べようかと思う。"
   ]
  },
  {
   "cell_type": "code",
   "execution_count": 23,
   "metadata": {},
   "outputs": [
    {
     "data": {
      "text/plain": [
       "<matplotlib.axes._subplots.AxesSubplot at 0x1150d2fd0>"
      ]
     },
     "execution_count": 23,
     "metadata": {},
     "output_type": "execute_result"
    },
    {
     "data": {
      "image/png": "[encoded data removed]",
      "text/plain": [
       "<matplotlib.figure.Figure at 0x1150b6240>"
      ]
     },
     "metadata": {},
     "output_type": "display_data"
    }
   ],
   "source": [
    "fig, axes = plt.subplots(1, 2, figsize=(20, 10))\n",
    "\n",
    "noun_freq.iloc[:10,:].plot(kind=\"pie\", y=\"出現頻度\",\n",
    "                           subplotｓ=True, ax=axes[0])\n",
    "\n",
    "noun_freq.iloc[:10,:].plot(kind=\"bar\", ax=axes[1])"
   ]
  },
  {
   "cell_type": "markdown",
   "metadata": {},
   "source": [
    "## 38. ヒストグラム\n",
    "\n",
    "---\n",
    "\n",
    "単語の出現頻度のヒストグラム（横軸に`出現頻度`，縦軸に`出現頻度をとる単語の種類数`を棒グラフで表したもの）を描け．\n",
    "\n",
    "> matplotlib"
   ]
  },
  {
   "cell_type": "code",
   "execution_count": 43,
   "metadata": {},
   "outputs": [
    {
     "data": {
      "text/plain": [
       "<matplotlib.axes._subplots.AxesSubplot at 0x12213ea90>"
      ]
     },
     "execution_count": 43,
     "metadata": {},
     "output_type": "execute_result"
    },
    {
     "data": {
      "image/png": "[encoded data removed]",
      "text/plain": [
       "<matplotlib.figure.Figure at 0x12216e6a0>"
      ]
     },
     "metadata": {},
     "output_type": "display_data"
    }
   ],
   "source": [
    "word_freq.plot(kind=\"hist\", logy=True, figsize=(15,7))"
   ]
  },
  {
   "cell_type": "markdown",
   "metadata": {},
   "source": [
    "## 39. Zipfの法則\n",
    "\n",
    "---\n",
    "\n",
    "単語の`出現頻度順位`を横軸，その`出現頻度`を縦軸として，両対数グラフをプロットせよ．"
   ]
  },
  {
   "cell_type": "code",
   "execution_count": 42,
   "metadata": {},
   "outputs": [
    {
     "data": {
      "text/plain": [
       "<matplotlib.axes._subplots.AxesSubplot at 0x11564ae80>"
      ]
     },
     "execution_count": 42,
     "metadata": {},
     "output_type": "execute_result"
    },
    {
     "data": {
      "image/png": "[encoded data removed]",
      "text/plain": [
       "<matplotlib.figure.Figure at 0x116b3e780>"
      ]
     },
     "metadata": {},
     "output_type": "display_data"
    }
   ],
   "source": [
    "word_freq.plot(x=word_freq.index, y=\"出現頻度\", kind=\"line\", \n",
    "               logx=True, logy=True, figsize=(15,7))"
   ]
  }
 ],
 "metadata": {
  "kernelspec": {
   "display_name": "Python 3",
   "language": "python",
   "name": "python3"
  },
  "language_info": {
   "codemirror_mode": {
    "name": "ipython",
    "version": 3
   },
   "file_extension": ".py",
   "mimetype": "text/x-python",
   "name": "python",
   "nbconvert_exporter": "python",
   "pygments_lexer": "ipython3",
   "version": "3.6.4"
  }
 },
 "nbformat": 4,
 "nbformat_minor": 2
}
