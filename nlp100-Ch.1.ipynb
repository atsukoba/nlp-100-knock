{
 "cells": [
  {
   "cell_type": "markdown",
   "metadata": {},
   "source": [
    "# 言語処理100本ノック \n",
    "# 第1章: 準備運動\n",
    "\n",
    "Atsuya Kobayashi 2018-08-29 18:04\n",
    "\n",
    "---\n",
    "\n",
    "### 00. 文字列の逆順\n",
    "文字列\"stressed\"の文字を逆に（末尾から先頭に向かって）並べた文字列を得よ．"
   ]
  },
  {
   "cell_type": "code",
   "execution_count": 8,
   "metadata": {},
   "outputs": [
    {
     "data": {
      "text/plain": [
       "'desserts'"
      ]
     },
     "execution_count": 8,
     "metadata": {},
     "output_type": "execute_result"
    }
   ],
   "source": [
    "s = \"stressed\"\n",
    "s[::-1]"
   ]
  },
  {
   "cell_type": "markdown",
   "metadata": {},
   "source": [
    "### 01. 「パタトクカシーー」\n",
    "「パタトクカシーー」という文字列の1,3,5,7文字目を取り出して連結した文字列を得よ．\n",
    "\n"
   ]
  },
  {
   "cell_type": "code",
   "execution_count": 18,
   "metadata": {},
   "outputs": [
    {
     "data": {
      "text/plain": [
       "'パトカー'"
      ]
     },
     "execution_count": 18,
     "metadata": {},
     "output_type": "execute_result"
    }
   ],
   "source": [
    "s = \"パタトクカシー\"\n",
    "s[0]+s[2]+s[4]+s[6]"
   ]
  },
  {
   "cell_type": "markdown",
   "metadata": {},
   "source": [
    "### 02. 「パトカー」＋「タクシー」＝「パタトクカシーー」\n",
    "「パトカー」＋「タクシー」の文字を先頭から交互に連結して文字列「パタトクカシーー」を得よ．"
   ]
  },
  {
   "cell_type": "code",
   "execution_count": 35,
   "metadata": {},
   "outputs": [
    {
     "data": {
      "text/plain": [
       "'パタトクカシーー'"
      ]
     },
     "execution_count": 35,
     "metadata": {},
     "output_type": "execute_result"
    }
   ],
   "source": [
    "p = \"パトカー\"\n",
    "t = \"タクシー\"\n",
    "\n",
    "output = \"\"\n",
    "\n",
    "for i in range(len(list(p))):\n",
    "    output += p[i] + t[i]\n",
    "\n",
    "output"
   ]
  },
  {
   "cell_type": "markdown",
   "metadata": {},
   "source": [
    "### 03. 円周率\n",
    "\"Now I need a drink, alcoholic of course, after the heavy lectures involving quantum mechanics.\"という文を単語に分解し，各単語の（アルファベットの）文字数を先頭から出現順に並べたリストを作成せよ．"
   ]
  },
  {
   "cell_type": "code",
   "execution_count": 43,
   "metadata": {},
   "outputs": [
    {
     "data": {
      "text/plain": [
       "[3, 1, 4, 1, 6, 9, 2, 7, 5, 3, 5, 8, 9, 7, 10]"
      ]
     },
     "execution_count": 43,
     "metadata": {},
     "output_type": "execute_result"
    }
   ],
   "source": [
    "s = \"Now I need a drink, alcoholic of course, \\\n",
    "after the heavy lectures involving quantum mechanics.\"\n",
    "\n",
    "s_list = s.rstrip().split(\" \")\n",
    "let_cnt = [len(n) for n in s_list]\n",
    "\n",
    "let_cnt"
   ]
  },
  {
   "cell_type": "markdown",
   "metadata": {},
   "source": [
    "### 04. 元素記号\n",
    "\"Hi He Lied Because Boron Could Not Oxidize Fluorine. New Nations Might Also Sign Peace Security Clause. Arthur King Can.\"という文を単語に分解し，1, 5, 6, 7, 8, 9, 15, 16, 19番目の単語は先頭の1文字，それ以外の単語は先頭に2文字を取り出し，取り出した文字列から単語の位置（先頭から何番目の単語か）への連想配列（辞書型もしくはマップ型）を作成せよ．"
   ]
  },
  {
   "cell_type": "code",
   "execution_count": 67,
   "metadata": {},
   "outputs": [
    {
     "data": {
      "text/plain": [
       "{'Al': 13,\n",
       " 'Ar': 18,\n",
       " 'B': 5,\n",
       " 'Be': 4,\n",
       " 'C': 6,\n",
       " 'Ca': 20,\n",
       " 'Cl': 17,\n",
       " 'F': 9,\n",
       " 'H': 1,\n",
       " 'He': 2,\n",
       " 'K': 19,\n",
       " 'Li': 3,\n",
       " 'Mi': 12,\n",
       " 'N': 7,\n",
       " 'Na': 11,\n",
       " 'Ne': 10,\n",
       " 'O': 8,\n",
       " 'P': 15,\n",
       " 'S': 16,\n",
       " 'Si': 14}"
      ]
     },
     "execution_count": 67,
     "metadata": {},
     "output_type": "execute_result"
    }
   ],
   "source": [
    "s = \"Hi He Lied Because Boron Could Not Oxidize Fluorine. New Nations Might \\\n",
    "Also Sign Peace Security Clause. Arthur King Can.\"\n",
    "\n",
    "s_list = s.rstrip().split(\" \")\n",
    "tbl = {}\n",
    "\n",
    "for idx,i in enumerate(s_list):\n",
    "    if idx+1 in [1, 5, 6, 7, 8, 9, 15, 16, 19]:\n",
    "        tbl[i[0]]=idx+1\n",
    "    else:\n",
    "        tbl[i[0:2]]=idx+1\n",
    "tbl"
   ]
  },
  {
   "cell_type": "markdown",
   "metadata": {},
   "source": [
    "### 05. n-gram\n",
    "与えられたシーケンス（文字列やリストなど）からn-gramを作る関数を作成せよ．この関数を用い，\"I am an NLPer\"という文から単語bi-gram，文字bi-gramを得よ．"
   ]
  },
  {
   "cell_type": "code",
   "execution_count": 7,
   "metadata": {},
   "outputs": [
    {
     "name": "stdout",
     "output_type": "stream",
     "text": [
      "Letter bi-gram \n",
      "['I ', ' a', 'am', 'm ', ' a', 'an', 'n ', ' N', 'NL', 'LP', 'Pe', 'er', 'r']\n",
      "Word bi-gram \n",
      "[['I', 'am'], ['am', 'an'], ['an', 'NLPer'], ['NLPer']]\n"
     ]
    }
   ],
   "source": [
    "def nGram(seq,n):\n",
    "\n",
    "    output = []\n",
    "    if n > len(seq):\n",
    "        print(\"arg n must be smaller than length of sequence\")\n",
    "    if type(seq) == list:\n",
    "        for idx in range(len(seq)):\n",
    "            output.append(seq[idx:idx+n])\n",
    "    if type(seq) == str:\n",
    "        for idx in range(len(seq)):\n",
    "            output.append(seq[idx:idx+n])\n",
    "\n",
    "    return output\n",
    "\n",
    "s = \"I am an NLPer\".rstrip()\n",
    "\n",
    "print(\"Letter bi-gram \\n{}\".format(nGram(s, 2)))\n",
    "print(\"Word bi-gram \\n{}\".format(nGram(s.split(\" \"), 2)))"
   ]
  },
  {
   "cell_type": "markdown",
   "metadata": {},
   "source": [
    "### 06. 集合\n",
    "\"paraparaparadise\"と\"paragraph\"に含まれる文字bi-gramの集合を，それぞれ, XとYとして求め，XとYの和集合，積集合，差集合を求めよ．さらに，'se'というbi-gramがXおよびYに含まれるかどうかを調べよ．\n",
    "\n",
    "`set`をつかう。"
   ]
  },
  {
   "cell_type": "code",
   "execution_count": 23,
   "metadata": {},
   "outputs": [
    {
     "name": "stdout",
     "output_type": "stream",
     "text": [
      "list X is ['pa', 'ar', 'ra', 'ap', 'pa', 'ar', 'ra', 'ap', 'pa', 'ar', 'ra', 'ad', 'di', 'is', 'se', 'e']\n",
      "list Y is ['pa', 'ar', 'ra', 'ag', 'gr', 'ra', 'ap', 'ph', 'h']\n",
      "X or Y 和集合 {'ph', 'h', 'ap', 'se', 'di', 'ar', 'is', 'ad', 'pa', 'ag', 'gr', 'ra', 'e'}\n",
      "X and Y 積集合 {'pa', 'ap', 'ra', 'ar'}\n"
     ]
    }
   ],
   "source": [
    "s_1 = \"paraparaparadise\"\n",
    "s_2 = \"paragraph\"\n",
    "\n",
    "X = nGram(s_1, 2)\n",
    "Y = nGram(s_2, 2)\n",
    "print(\"list X is {}\".format(X))\n",
    "print(\"list Y is {}\".format(Y))\n",
    "\n",
    "print(\"X or Y 和集合 {}\".format(set(X).union(Y)))\n",
    "print(\"X and Y 積集合 {}\".format(set(X).intersection(Y)))"
   ]
  },
  {
   "cell_type": "markdown",
   "metadata": {},
   "source": [
    "### 07. テンプレートによる文生成\n",
    "引数x, y, zを受け取り「x時のyはz」という文字列を返す関数を実装せよ．さらに，x=12, y=\"気温\", z=22.4として，実行結果を確認せよ．\n"
   ]
  },
  {
   "cell_type": "code",
   "execution_count": 24,
   "metadata": {},
   "outputs": [
    {
     "data": {
      "text/plain": [
       "'12時の気温は22.4'"
      ]
     },
     "execution_count": 24,
     "metadata": {},
     "output_type": "execute_result"
    }
   ],
   "source": [
    "def temp(x,y,z):\n",
    "    return \"{}時の{}は{}\".format(x,y,z)\n",
    "\n",
    "temp(12,\"気温\",22.4)"
   ]
  },
  {
   "cell_type": "markdown",
   "metadata": {},
   "source": [
    "### 08. 暗号文\n",
    "与えられた文字列の各文字を，以下の仕様で変換する関数cipherを実装せよ．\n",
    "\n",
    "英小文字ならば(219 - 文字コード)の文字に置換\n",
    "その他の文字はそのまま出力\n",
    "この関数を用い，英語のメッセージを暗号化・復号化せよ．"
   ]
  },
  {
   "cell_type": "code",
   "execution_count": 32,
   "metadata": {},
   "outputs": [
    {
     "data": {
      "text/plain": [
       "'zuhwez'"
      ]
     },
     "execution_count": 32,
     "metadata": {},
     "output_type": "execute_result"
    }
   ],
   "source": [
    "def cipher(sentense):\n",
    "    \n",
    "    sentense_list = []\n",
    "    result = ''\n",
    "\n",
    "    for i in range (len(sentense)):\n",
    "        if sentense[i].islower():\n",
    "            sentense_list.insert(i, chr(219-ord(sentense[i])))\n",
    "        else:\n",
    "            sentense_list.insert(i, sentense[i])\n",
    "                \n",
    "    for ii in range (len(sentense)):\n",
    "        result += sentense_list[ii]\n",
    "        \n",
    "    return result\n",
    "\n",
    "cipher(\"afsdva\")"
   ]
  },
  {
   "cell_type": "markdown",
   "metadata": {},
   "source": [
    "### 09. Typoglycemia\n",
    "スペースで区切られた単語列に対して，各単語の先頭と末尾の文字は残し，それ以外の文字の順序をランダムに並び替えるプログラムを作成せよ．ただし，長さが４以下の単語は並び替えないこととする．適当な英語の文（例えば\"I couldn't believe that I could actually understand what I was reading : the phenomenal power of the human mind .\"）を与え，その実行結果を確認せよ．\n",
    "\n",
    "`random.randrange, randint`"
   ]
  },
  {
   "cell_type": "code",
   "execution_count": 33,
   "metadata": {},
   "outputs": [],
   "source": [
    "import random\n",
    "\n",
    "def randomize(s):\n",
    "    s_l = s.rstrip().split(\" \")\n",
    "    output_idx = []\n",
    "    for idx,let in enumerate(s_l):\n",
    "        if len(let) < 5:\n",
    "            output_idx.append(idx)\n",
    "        else:\n",
    "            output_idx.append(random.randrange())\n",
    "            "
   ]
  },
  {
   "cell_type": "code",
   "execution_count": null,
   "metadata": {},
   "outputs": [],
   "source": []
  }
 ],
 "metadata": {
  "kernelspec": {
   "display_name": "Python 3",
   "language": "python",
   "name": "python3"
  },
  "language_info": {
   "codemirror_mode": {
    "name": "ipython",
    "version": 3
   },
   "file_extension": ".py",
   "mimetype": "text/x-python",
   "name": "python",
   "nbconvert_exporter": "python",
   "pygments_lexer": "ipython3",
   "version": "3.6.4"
  }
 },
 "nbformat": 4,
 "nbformat_minor": 2
}
